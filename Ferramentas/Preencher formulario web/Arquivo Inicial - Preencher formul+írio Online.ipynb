{
 "cells": [
  {
   "cell_type": "markdown",
   "id": "877f7965",
   "metadata": {},
   "source": [
    "### Preencher Formulários com Selenium\n",
    "\n",
    "Link do formulário: https://forms.gle/fTG7MkjZqWaRgg2GA"
   ]
  },
  {
   "cell_type": "code",
   "execution_count": null,
   "id": "585db26d",
   "metadata": {},
   "outputs": [],
   "source": []
  },
  {
   "cell_type": "markdown",
   "id": "3057b164",
   "metadata": {},
   "source": [
    "### Fazer a partir de uma planilha e várias vezes:"
   ]
  },
  {
   "cell_type": "code",
   "execution_count": null,
   "id": "ab175b8e",
   "metadata": {},
   "outputs": [],
   "source": []
  }
 ],
 "metadata": {
  "kernelspec": {
   "display_name": "Python 3",
   "language": "python",
   "name": "python3"
  },
  "language_info": {
   "codemirror_mode": {
    "name": "ipython",
    "version": 3
   },
   "file_extension": ".py",
   "mimetype": "text/x-python",
   "name": "python",
   "nbconvert_exporter": "python",
   "pygments_lexer": "ipython3",
   "version": "3.8.8"
  }
 },
 "nbformat": 4,
 "nbformat_minor": 5
}
