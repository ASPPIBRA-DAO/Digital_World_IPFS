{
 "cells": [
  {
   "cell_type": "markdown",
   "id": "b7655610",
   "metadata": {},
   "source": [
    "# Pandas\n",
    "Referência\n",
    "https://pandas.pydata.org/docs/user_guide/merging.html"
   ]
  },
  {
   "cell_type": "code",
   "execution_count": null,
   "id": "778d3a5d",
   "metadata": {},
   "outputs": [],
   "source": [
    "import pandas as pd\n",
    "\n",
    "tab_python = pd.read_excel(\"python.xlsx\")\n",
    "tab_cd = pd.read_excel(\"cienciadados.xlsx\")\n",
    "display(tab_python)\n",
    "display(tab_cd)"
   ]
  },
  {
   "cell_type": "markdown",
   "id": "d47a3496",
   "metadata": {},
   "source": [
    "\n",
    "### Concat"
   ]
  },
  {
   "cell_type": "code",
   "execution_count": null,
   "id": "7bb90749",
   "metadata": {},
   "outputs": [],
   "source": [
    "# ignore_index\n",
    "# keys (sem ignore_index)"
   ]
  },
  {
   "cell_type": "markdown",
   "id": "b5e6926c",
   "metadata": {},
   "source": [
    "### Merge"
   ]
  },
  {
   "cell_type": "code",
   "execution_count": null,
   "id": "6a4b3226",
   "metadata": {},
   "outputs": [],
   "source": [
    "tab_produtos = pd.merge(tab_python, tab_cd)\n",
    "display(tab_produtos)"
   ]
  },
  {
   "cell_type": "code",
   "execution_count": null,
   "id": "0fa89996",
   "metadata": {},
   "outputs": [],
   "source": [
    "# quais clientes compraram os 2 produtos\n",
    "# e se os nomes das colunas forem difernetes nas tabelas?"
   ]
  },
  {
   "cell_type": "code",
   "execution_count": null,
   "id": "b0f05ffe",
   "metadata": {},
   "outputs": [],
   "source": [
    "# analisando o parâmetro how\n"
   ]
  }
 ],
 "metadata": {
  "kernelspec": {
   "display_name": "Python 3 (ipykernel)",
   "language": "python",
   "name": "python3"
  },
  "language_info": {
   "codemirror_mode": {
    "name": "ipython",
    "version": 3
   },
   "file_extension": ".py",
   "mimetype": "text/x-python",
   "name": "python",
   "nbconvert_exporter": "python",
   "pygments_lexer": "ipython3",
   "version": "3.9.7"
  }
 },
 "nbformat": 4,
 "nbformat_minor": 5
}
