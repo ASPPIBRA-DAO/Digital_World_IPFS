{
 "cells": [
  {
   "cell_type": "markdown",
   "id": "0c2fd7b5",
   "metadata": {},
   "source": [
    "# Automação Web com Selenium\n",
    "\n",
    "#### Python + Selenium\n",
    "\n",
    "- 2 requisitos:\n",
    "    - Instalar o Selenium\n",
    "    - Webdriver Manager"
   ]
  },
  {
   "cell_type": "code",
   "execution_count": 1,
   "id": "bdaded39",
   "metadata": {},
   "outputs": [
    {
     "ename": "SyntaxError",
     "evalue": "invalid syntax (Temp/ipykernel_5620/2135483579.py, line 61)",
     "output_type": "error",
     "traceback": [
      "\u001b[1;36m  File \u001b[1;32m\"C:\\Users\\Windows\\AppData\\Local\\Temp/ipykernel_5620/2135483579.py\"\u001b[1;36m, line \u001b[1;32m61\u001b[0m\n\u001b[1;33m    f'//div[@class='gridcell t66']//select id='mainForm:estados' name='mainForm:estados')\u001b[0m\n\u001b[1;37m                    ^\u001b[0m\n\u001b[1;31mSyntaxError\u001b[0m\u001b[1;31m:\u001b[0m invalid syntax\n"
     ]
    }
   ],
   "source": [
    "from selenium import webdriver\n",
    "from selenium.webdriver.chrome.options import Options\n",
    "from selenium.webdriver.common.by import By\n",
    "from selenium.webdriver.support.expected_conditions import _find_elements\n",
    "from selenium.webdriver.support.ui import WebDriverWait\n",
    "from selenium.common.exceptions import *\n",
    "from time import sleep\n",
    "import openpyxl\n",
    "import smtplib\n",
    "import os\n",
    "from email.message import EmailMessage\n",
    "import re\n",
    "\n",
    "\n",
    "class Scrappy:\n",
    "\n",
    "    def iniciar(self):\n",
    "        self.email_usuario()\n",
    "        self.raspagem_de_dados()\n",
    "        self.criar_planilha()\n",
    "        self.enviar_email_cliente()\n",
    "\n",
    "    def email_usuario(self):\n",
    "\n",
    "        self.email = input(\n",
    "            'Digite o email para receber o relatorio de valores dos celulares!\\n')\n",
    "        self.email.lower()\n",
    "        self.senha = input('Digite a sua senha')\n",
    "\n",
    "        padrao = re.search(\n",
    "            r'[a-zA-Z0-9_-]+@[a-zA-Z0-9]+\\.[a-zA-Z]{1,3}$', self.email)\n",
    "        if padrao:\n",
    "            print('email Valido')\n",
    "\n",
    "        else:\n",
    "            print('Digite um email valido!!!')\n",
    "            self.email_usuario()"
   ]
  },
  {
   "cell_type": "code",
   "execution_count": 2,
   "id": "0e9c5e72",
   "metadata": {},
   "outputs": [
    {
     "name": "stderr",
     "output_type": "stream",
     "text": [
      "[WDM] - Downloading: 100%|██████████| 6.29M/6.29M [00:01<00:00, 5.84MB/s]\n"
     ]
    }
   ],
   "source": [
    "def raspagem_de_dados(self):\n",
    "        chrome_options = Options()\n",
    "        chrome_options.add_experimental_option(\n",
    "            'excludeSwitches', ['enable-logging'])\n",
    "        chrome_options.add_argument('--lang=pr-BR')\n",
    "        chrome_options.add_argument('--disable-notifications')\n",
    "        self.driver = webdriver.Chrome(executable_path=os.getcwd(\n",
    "        ) + os.sep + 'chromedriver.exe', options=chrome_options)\n",
    "        self.driver.set_window_size(800, 700)\n",
    "        self.link = 'https://telefonesimportados.netlify.app/'\n",
    "        print(self.driver.title)\n",
    "        self.lista_nome_estados = []\n",
    "        self.lista_nome_municipios = []\n",
    "        self.lista_nome_emitir = []\n",
    "        self.lista_nome_Certidão_negativa_de_imóvel = [] \n",
    "\n",
    "        self.driver.get(self.link)\n",
    "        sleep(2)\n",
    "        for p in range(5):\n",
    "            # Utilizar xpath dinaminco para evitar quebra do codigo\n",
    "            item = 1\n",
    "            for i in range(12):\n",
    "                lista_estados = self.driver.find_elements_by_xpath(\n",
    "                    f'//div[@class='gridcell t66']//select id='mainForm:estados' name='mainForm:estados')\n",
    "                self.lista_nome_estados.append(lista_nomes[0].text)\n",
    "                sleep(1)\n",
    "                lista_municipios = self.driver.find_elements_by_xpath(\n",
    "                    f'//div[@class='gridcell t66'] == $0//span id='mainForm:test')\n",
    "                self.lista_nome_municipios.append(lista_nomes[0].text)\n",
    "                sleep(1)\n",
    "                lista_nome_emitir = self.driver.find_elements_by_xpath(\n",
    "                    f'/html/body/div[5]/div[2]/div[1]/div[{item}]/div/h2/a')\n",
    "                self.lista_nome_emitir.append(nome_emitir[0].text)\n",
    "                sleep(1)\n",
    "                lista_nome_Certidão_negativa_de_imóvel = self.driver.find_elements_by_xpath(\n",
    "                    f'//div[{item}]/div[@class=\"single-shop-product\" and 1]/div[@class=\"product-carousel-price\" and 2]/ins[1]')\n",
    "                self.lista_nome_Certidão_negativa_de_imóvel.append(nome_Certidão_negativa_de_imóvel[0].text)\n",
    "                item += 1\n",
    "                sleep(1)\n",
    "            try:\n",
    "                botao_proximo = self.driver.find_element_by_xpath(\n",
    "                    '/html/body/div[5]/div[2]/div[2]/div/div/nav/ul/li[7]/a')\n",
    "                botao_proximo.click()\n",
    "                print(f'\\u001b[32m{\"Navegando para proxima pagina\"}\\u001b[0m')\n",
    "                sleep(2)\n",
    "\n",
    "            except NoSuchElementException:\n",
    "\n",
    "                print(f'\\u001b[33m{\"Não há mais paginas!\"}\\u001b[0m')\n",
    "                print(f'\\u001b[32m{\"Escaneamento Concluido\"}\\u001b[0m')\n",
    "                self.driver.quit()\n"
   ]
  },
  {
   "cell_type": "code",
   "execution_count": null,
   "id": "dae5368f",
   "metadata": {},
   "outputs": [],
   "source": [
    "def criar_planilha(self):\n",
    "        index = 2\n",
    "        planilha = openpyxl.Workbook()\n",
    "        cadastro = planilha['Sheet']\n",
    "        cadastro.title = 'Imoveis' \n",
    "        cadastro['A1'] = 'Código'\n",
    "        cadastro['B1'] = 'Inscrição_imobiliária'\n",
    "        cadastro['c1'] = 'Endereço'\n",
    "        for Código, Inscrição_imobiliária, Endereço in zip(self.lista_nome_Código, self.lista_nome_Inscrição_imobiliária, self.lista_nome_Endereço):\n",
    "            cadastro.cell(column=1, row=index, value=Código)\n",
    "            cadastro.cell(column=2, row=index, value=Inscrição_imobiliária)\n",
    "            cadastro.cell(column=3, row=index, value=Endereço)\n",
    "            index += 1\n",
    "        planilha.save(\"planilha_de_preços.xlsx\")\n",
    "\n",
    "        print(f'\\u001b[32m{\"Planilha criada com sucesso\"}\\u001b[0m')"
   ]
  },
  {
   "cell_type": "code",
   "execution_count": null,
   "id": "55850b22",
   "metadata": {},
   "outputs": [],
   "source": [
    " def enviar_email_cliente(self):\n",
    "        endereco = 'Digite o email aqui'\n",
    "        senha = 'Digite a senha aqui'\n",
    "        msg = EmailMessage()\n",
    "        msg['Subject'] = 'planilha de Preços de Telefones Importados'\n",
    "        msg['From'] = endereco\n",
    "        msg['To'] = self.email\n",
    "        msg.set_content('Olá a sua planilha chegou')\n",
    "        arquivos = [\"planilha_de_preços.xlsx\"]\n",
    "        for arquivo in arquivos:\n",
    "            with open(arquivo, 'rb') as arq:\n",
    "                dados = arq.read()\n",
    "                nome_arquivo = arq.name\n",
    "            msg.add_attachment(dados, maintype='application',\n",
    "                               subtype='octet-stream', filename=nome_arquivo)\n",
    "        server = smtplib.SMTP('imap.gmail.com', 587)\n",
    "        server.ehlo()\n",
    "        server.starttls()\n",
    "        server.login(endereco, senha, initial_response_ok=True)\n",
    "        server.send_message(msg)\n",
    "        print(f'\\u001b[32m{\"Enviando email para para destinatario\"}\\u001b[0m')\n",
    "\n",
    "        server.quit()\n",
    "\n",
    "\n",
    "start = Scrappy()\n",
    "start.iniciar()"
   ]
  }
 ],
 "metadata": {
  "kernelspec": {
   "display_name": "Python 3 (ipykernel)",
   "language": "python",
   "name": "python3"
  },
  "language_info": {
   "codemirror_mode": {
    "name": "ipython",
    "version": 3
   },
   "file_extension": ".py",
   "mimetype": "text/x-python",
   "name": "python",
   "nbconvert_exporter": "python",
   "pygments_lexer": "ipython3",
   "version": "3.9.7"
  }
 },
 "nbformat": 4,
 "nbformat_minor": 5
}
